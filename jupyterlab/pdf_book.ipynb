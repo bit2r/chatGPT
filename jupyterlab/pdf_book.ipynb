{
 "cells": [
  {
   "cell_type": "markdown",
   "id": "cd2b07de-71bf-4412-b3d6-b1438ecec814",
   "metadata": {},
   "source": [
    "# 환경설정"
   ]
  },
  {
   "cell_type": "code",
   "execution_count": 17,
   "id": "e97a00fa-2dcf-46fc-85be-cf24797ca9ae",
   "metadata": {
    "tags": []
   },
   "outputs": [],
   "source": [
    "#| label: openai-setup\n",
    "from langchain.document_loaders import UnstructuredPDFLoader, OnlinePDFLoader\n",
    "from langchain.text_splitter import RecursiveCharacterTextSplitter\n",
    "\n",
    "import openai\n",
    "import os\n",
    "\n",
    "from dotenv import load_dotenv, find_dotenv\n",
    "_ = load_dotenv(find_dotenv())\n",
    "\n",
    "openai.api_key  = os.getenv('ENV_OPENAI_API_KEY')"
   ]
  },
  {
   "cell_type": "markdown",
   "id": "8f050ea3-3bee-4a3d-88ee-6b29b0d574aa",
   "metadata": {},
   "source": [
    "# 데이터"
   ]
  },
  {
   "cell_type": "code",
   "execution_count": 2,
   "id": "40c66dd1-9030-43fb-8095-aa700186155a",
   "metadata": {
    "tags": []
   },
   "outputs": [],
   "source": [
    "# !pip install unstructured\n",
    "# !pip install pdf2image\n",
    "# !pip install pytesseract\n",
    "# !pip install torchvision \n",
    "# !pip install 'git+https://github.com/facebookresearch/detectron2.git'\n",
    "# !pip install unstructured_inference\n",
    "loader = UnstructuredPDFLoader(\"../data/field-guide-to-data-science.pdf\")\n",
    "data = loader.load()\n"
   ]
  },
  {
   "cell_type": "code",
   "execution_count": 3,
   "id": "04214954-5cce-428c-8201-4ff957807043",
   "metadata": {
    "tags": []
   },
   "outputs": [
    {
     "name": "stdout",
     "output_type": "stream",
     "text": [
      "You have 1 document(s) in your data\n",
      "There are 167738 characters in your document\n"
     ]
    }
   ],
   "source": [
    "print (f'You have {len(data)} document(s) in your data')\n",
    "print (f'There are {len(data[0].page_content)} characters in your document')"
   ]
  },
  {
   "cell_type": "markdown",
   "id": "d9cb08df-e592-4f44-bff6-ca61b46101cb",
   "metadata": {},
   "source": [
    "# 텍스트 쪼개기"
   ]
  },
  {
   "cell_type": "code",
   "execution_count": 12,
   "id": "7d106787-09bf-4a81-a11d-009ed605c94a",
   "metadata": {
    "tags": []
   },
   "outputs": [
    {
     "name": "stdout",
     "output_type": "stream",
     "text": [
      "Now you have 227 documents\n"
     ]
    }
   ],
   "source": [
    "text_splitter = RecursiveCharacterTextSplitter(chunk_size=1000, chunk_overlap=0)\n",
    "texts = text_splitter.split_documents(data)\n",
    "print (f'Now you have {len(texts)} documents')"
   ]
  },
  {
   "cell_type": "code",
   "execution_count": 16,
   "id": "825f14a3-d32f-451f-b4a3-b55d2f4784c6",
   "metadata": {
    "tags": []
   },
   "outputs": [
    {
     "data": {
      "text/plain": [
       "[Document(page_content='FIELD GUIDEto DATA SCIENCEBooz | Allen | Hamilton\\n\\nTHE FI ELD GUI DE DATA SCIENCE to S E C O N D E D I T I O N © COPYRIGHT 2015 BOOZ ALLEN HAMILTON INC. ALL RIGHTS RESERVED.\\n\\nA\\n\\n\\n\\nData Science touches every aspect of our lives on a daily basis. When we visit the doctor, drive our get on an airplane, or shop for services, Data is changing the way we interact with and explore\\n\\nOur world is now measured, mapped, and recorded in digital bits. Entire lives, from birth to death, are now catalogued in the digital realm. These data, originating from such diverse sources as connected vehicles, underwater microscopic cameras, and photos we post to social media, have propelled us into the greatest age of discovery humanity has ever known. It is through Data Science that we are unlocking the secrets hidden within these data. We are making discoveries that will forever change how we live and interact', metadata={'source': '../data/field-guide-to-data-science.pdf'})]"
      ]
     },
     "execution_count": 16,
     "metadata": {},
     "output_type": "execute_result"
    }
   ],
   "source": [
    "texts[:1]"
   ]
  },
  {
   "cell_type": "markdown",
   "id": "4eda9077-c3f7-4c62-adaa-258e1fe7768d",
   "metadata": {},
   "source": [
    "# 임베딩"
   ]
  },
  {
   "cell_type": "code",
   "execution_count": 5,
   "id": "5ff62c3a-7788-4476-9d26-7cd4bf847a57",
   "metadata": {
    "tags": []
   },
   "outputs": [],
   "source": [
    "# !pip isntall pinecone-client\n",
    "from langchain.vectorstores import Chroma, Pinecone\n",
    "from langchain.embeddings.openai import OpenAIEmbeddings\n",
    "import pinecone"
   ]
  },
  {
   "cell_type": "code",
   "execution_count": 21,
   "id": "1c080065-5c73-45fe-ad7d-8586574ca275",
   "metadata": {
    "tags": []
   },
   "outputs": [],
   "source": [
    "embeddings = OpenAIEmbeddings(openai_api_key=os.getenv('ENV_OPENAI_API_KEY'))\n",
    "# initialize pinecone\n",
    "pinecone.init(\n",
    "    api_key=os.getenv('PINECONE_API_KEY'),  # find at app.pinecone.io\n",
    "    environment=os.getenv('PINECONE_API_ENV')  # next to api key in console\n",
    ")\n",
    "index_name = \"langchain-pdf\" # put in the name of your pinecone index here\n",
    "docsearch = Pinecone.from_texts([t.page_content for t in texts], embeddings, index_name=index_name)"
   ]
  },
  {
   "cell_type": "code",
   "execution_count": 23,
   "id": "429429be-4c30-4e1d-ab73-1d93f3c58f6e",
   "metadata": {
    "tags": []
   },
   "outputs": [
    {
     "data": {
      "text/plain": [
       "'At Booz Allen Hamilton, we built an industry-leading team of Data Scientists. Over the course of hundreds of analytic challenges for countless clients, we’ve unraveled the DNA of Data Science. Many people have put forth their thoughts on single aspec'"
      ]
     },
     "execution_count": 23,
     "metadata": {},
     "output_type": "execute_result"
    }
   ],
   "source": [
    "query = \"What are examples of good data science teams?\"\n",
    "docs = docsearch.similarity_search(query, include_metadata=True)\n",
    "docs[0].page_content[:250]"
   ]
  },
  {
   "cell_type": "markdown",
   "id": "084aa459-40d8-47f7-b68c-21ebf8f368f7",
   "metadata": {},
   "source": [
    "# 질의응답"
   ]
  },
  {
   "cell_type": "code",
   "execution_count": 25,
   "id": "f67f3007-8603-4b04-8966-4471e96836d9",
   "metadata": {
    "tags": []
   },
   "outputs": [],
   "source": [
    "from langchain.llms import OpenAI\n",
    "from langchain.chains.question_answering import load_qa_chain\n",
    "llm = OpenAI(temperature=0, openai_api_key=os.getenv('ENV_OPENAI_API_KEY'))\n",
    "chain = load_qa_chain(llm, chain_type=\"stuff\")"
   ]
  },
  {
   "cell_type": "code",
   "execution_count": 27,
   "id": "cb9d957b-51be-4cab-9f71-a690c9f67d2c",
   "metadata": {
    "tags": []
   },
   "outputs": [
    {
     "data": {
      "text/plain": [
       "' The collect stage of data maturity is focused on collecting internal or external datasets. It seeks to enhance or refine raw data as well as leverage basic analytic functions such as counts.'"
      ]
     },
     "execution_count": 27,
     "metadata": {},
     "output_type": "execute_result"
    }
   ],
   "source": [
    "query = \"What is the collect stage of data maturity?\"\n",
    "docs = docsearch.similarity_search(query, include_metadata=True)\n",
    "chain.run(input_documents=docs, question=query)"
   ]
  },
  {
   "cell_type": "code",
   "execution_count": 28,
   "id": "9010579f-6d3a-49c8-a922-99f3800cf4f5",
   "metadata": {
    "tags": []
   },
   "outputs": [
    {
     "data": {
      "text/plain": [
       "' It depends on the size, complexity, and business drivers of the organization. The three models to consider are Centralized, Deployed, and Diffused.'"
      ]
     },
     "execution_count": 28,
     "metadata": {},
     "output_type": "execute_result"
    }
   ],
   "source": [
    "query =\" What is the ideal data science team structure?\"\n",
    "docs = docsearch.similarity_search(query, include_metadata=True)\n",
    "chain.run(input_documents=docs, question=query)"
   ]
  },
  {
   "cell_type": "code",
   "execution_count": 29,
   "id": "9a36d20c-87bc-4a8f-9ac2-20beefc83fb3",
   "metadata": {
    "tags": []
   },
   "outputs": [
    {
     "data": {
      "text/plain": [
       "' The most common Data Science team structure is the Deployed Model.'"
      ]
     },
     "execution_count": 29,
     "metadata": {},
     "output_type": "execute_result"
    }
   ],
   "source": [
    "query =\" 가장 일반적인 데이터 과학 팀 구조는 어떻게 됩니까?\"\n",
    "docs = docsearch.similarity_search(query, include_metadata=True)\n",
    "chain.run(input_documents=docs, question=query)"
   ]
  }
 ],
 "metadata": {
  "kernelspec": {
   "display_name": "Python 3 (ipykernel)",
   "language": "python",
   "name": "python3"
  },
  "language_info": {
   "codemirror_mode": {
    "name": "ipython",
    "version": 3
   },
   "file_extension": ".py",
   "mimetype": "text/x-python",
   "name": "python",
   "nbconvert_exporter": "python",
   "pygments_lexer": "ipython3",
   "version": "3.9.16"
  }
 },
 "nbformat": 4,
 "nbformat_minor": 5
}
