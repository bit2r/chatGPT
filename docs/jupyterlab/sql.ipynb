{
 "cells": [
  {
   "cell_type": "markdown",
   "id": "43b84d79-5f3a-4311-9190-0cd1b9ce2015",
   "metadata": {},
   "source": [
    "# 사전준비\n",
    "## OpenAI 설정"
   ]
  },
  {
   "cell_type": "code",
   "execution_count": 45,
   "id": "ef571f2b-f7fc-4992-bb1a-bac8dc1daf25",
   "metadata": {},
   "outputs": [],
   "source": [
    "#| label: openai-setup\n",
    "import openai\n",
    "import os\n",
    "\n",
    "from dotenv import load_dotenv, find_dotenv\n",
    "_ = load_dotenv(find_dotenv())\n",
    "\n",
    "openai.api_key  = os.getenv('ENV_OPENAI_API_KEY')"
   ]
  },
  {
   "cell_type": "markdown",
   "id": "4da4029d-6caa-4da4-83c8-0a2cece4eeda",
   "metadata": {},
   "source": [
    "# 데이터베이스"
   ]
  },
  {
   "cell_type": "code",
   "execution_count": null,
   "id": "50f65f96-06ff-44e7-bb4d-6cf86d9df029",
   "metadata": {},
   "outputs": [],
   "source": [
    "response = openai.ChatCompletion.create(\n",
    "  model=\"gpt-3.5-turbo\",\n",
    "  messages=[\n",
    "        {\"role\": \"system\", \"content\": \"You are a helpful assistant.\"},\n",
    "        {\"role\": \"user\", \"content\": \"Who won the super bowl in 1973?\"},\n",
    "        {\"role\": \"assistant\", \"content\": \"The Miami Dolphins won the Super Bowl in 1973.\"},\n",
    "        {\"role\": \"user\", \"content\": \"Where was it played?\"}\n",
    "    ]\n",
    ")    \n"
   ]
  },
  {
   "cell_type": "code",
   "execution_count": 6,
   "id": "e464e59c-00b4-4708-951c-d0e3eef33e1b",
   "metadata": {},
   "outputs": [
    {
     "name": "stdout",
     "output_type": "stream",
     "text": [
      "The Super Bowl in 1973, which was Super Bowl VII, was played at the Los Angeles Memorial Coliseum in Los Angeles, California.\n"
     ]
    }
   ],
   "source": [
    "print(response['choices'][0]['message']['content'])"
   ]
  },
  {
   "cell_type": "code",
   "execution_count": 8,
   "id": "9b08061e-5d07-4c92-aa37-8deb0bdc19a5",
   "metadata": {},
   "outputs": [
    {
     "data": {
      "text/plain": [
       "<OpenAIObject chat.completion id=chatcmpl-7DMvdzWvhcClj1VZI4tMpcyuSLupN at 0x1f3f7a9d720> JSON: {\n",
       "  \"choices\": [\n",
       "    {\n",
       "      \"finish_reason\": \"stop\",\n",
       "      \"index\": 0,\n",
       "      \"message\": {\n",
       "        \"content\": \"The Super Bowl in 1973, which was Super Bowl VII, was played at the Los Angeles Memorial Coliseum in Los Angeles, California.\",\n",
       "        \"role\": \"assistant\"\n",
       "      }\n",
       "    }\n",
       "  ],\n",
       "  \"created\": 1683420757,\n",
       "  \"id\": \"chatcmpl-7DMvdzWvhcClj1VZI4tMpcyuSLupN\",\n",
       "  \"model\": \"gpt-3.5-turbo-0301\",\n",
       "  \"object\": \"chat.completion\",\n",
       "  \"usage\": {\n",
       "    \"completion_tokens\": 29,\n",
       "    \"prompt_tokens\": 56,\n",
       "    \"total_tokens\": 85\n",
       "  }\n",
       "}"
      ]
     },
     "execution_count": 8,
     "metadata": {},
     "output_type": "execute_result"
    }
   ],
   "source": [
    "response"
   ]
  },
  {
   "cell_type": "code",
   "execution_count": null,
   "id": "2c6e6b7a-25b2-49fc-ae59-330d82652b29",
   "metadata": {},
   "outputs": [],
   "source": [
    "system_prompt = \"\"\"\n",
    "    You are the world's best SQL expert. Help me convert natural language to valid SQL queries. Only respond with valid SQL queries, nothing else.\n",
    "    You must learn the column names based on the information the user gives you and build valid SQL queries. Never guess the column names.\n",
    "    These are the examples:\n",
    "\n",
    "    query: get all people names\n",
    "    answer: SELECT name from people;\n",
    "\n",
    "    query: get all cars whose owner name is aaron\n",
    "    answer: SELECT c.* FROM people p JOIN cars c ON p.id = c.owner_id WHERE p.name = 'aaron';\n",
    "\"\"\"\n",
    "\n",
    "user_prompt = f\"\"\"\n",
    "    This is my database information:\n",
    "    {self.db_schema_info}\n",
    "\n",
    "    query: {q}\n",
    "    answer:\n",
    "\"\"\"\n",
    "\n",
    "completion = self.openai_client.ChatCompletion.create(\n",
    "    model=self.openai_model_name,\n",
    "    messages=[\n",
    "        {\"role\": \"system\", \"content\": system_prompt},\n",
    "        {\"role\": \"user\", \"content\": user_prompt},\n",
    "    ],\n",
    ")\n",
    "\n",
    "return completion.choices[0].message.content"
   ]
  },
  {
   "cell_type": "code",
   "execution_count": 11,
   "id": "32c6d90c-99ed-4b7d-9d35-105ad944a2d5",
   "metadata": {},
   "outputs": [],
   "source": [
    "def generate_sql_query(prompt, max_tokens=100, temperature=0, top_p=1.0, frequency_penalty=0.0, presence_penalty=0.0, stop=[\"\\n\"]):\n",
    "    response = openai.Completion.create(\n",
    "        engine=\"text-davinci-003\",\n",
    "        prompt=prompt,\n",
    "        max_tokens=max_tokens,\n",
    "        temperature=temperature,\n",
    "        top_p=top_p,\n",
    "        frequency_penalty=frequency_penalty,\n",
    "        presence_penalty=presence_penalty,\n",
    "        stop=stop\n",
    "    )\n",
    "    return response.choices[0].text"
   ]
  },
  {
   "cell_type": "code",
   "execution_count": 12,
   "id": "2ae8f689-a67f-4a20-97ae-97e6d5cf97e0",
   "metadata": {
    "tags": []
   },
   "outputs": [
    {
     "data": {
      "text/plain": [
       "''"
      ]
     },
     "execution_count": 12,
     "metadata": {},
     "output_type": "execute_result"
    }
   ],
   "source": [
    "generate_sql_query(\"Get all the users that are older than 25 years old\")"
   ]
  },
  {
   "cell_type": "markdown",
   "id": "744199a5-922b-409c-b6f6-5a1ddbe7933e",
   "metadata": {},
   "source": [
    "# SQL 생성함수\n",
    "## 스크립트"
   ]
  },
  {
   "cell_type": "code",
   "execution_count": 49,
   "id": "1d2a5cf5-e0e7-493b-bbfd-b693f612ef8d",
   "metadata": {},
   "outputs": [
    {
     "name": "stdout",
     "output_type": "stream",
     "text": [
      "\n",
      "\n",
      "SELECT * FROM users WHERE age > 35;\n"
     ]
    }
   ],
   "source": [
    "#| label: sql-helloworld\n",
    "prompt = \"Get all the users that are older than 35 years old\"\n",
    "model = \"text-davinci-002\"\n",
    "temperature = 0.0\n",
    "max_tokens = 50\n",
    "\n",
    "response = openai.Completion.create(\n",
    "    engine=model,\n",
    "    prompt=prompt,\n",
    "    temperature=temperature,\n",
    "    max_tokens=max_tokens,\n",
    ")\n",
    "\n",
    "print(response.choices[0].text)"
   ]
  },
  {
   "cell_type": "code",
   "execution_count": 48,
   "id": "15772700-d351-47e6-9601-1ffa42d23653",
   "metadata": {},
   "outputs": [
    {
     "name": "stdout",
     "output_type": "stream",
     "text": [
      ".\n",
      "\n",
      "```mysql\n",
      "SELECT * FROM users WHERE age >= 35;\n",
      "```\n"
     ]
    }
   ],
   "source": [
    "#| label: sql-helloworld-ko\n",
    "prompt = \"users 테이블에서 35세 이상 사용자를 추출하는 SQL 코드를 작성하세요\"\n",
    "model = \"text-davinci-002\"\n",
    "temperature = 0.5\n",
    "max_tokens = 50\n",
    "\n",
    "response = openai.Completion.create(\n",
    "    engine=model,\n",
    "    prompt=prompt,\n",
    "    temperature=temperature,\n",
    "    max_tokens=max_tokens,\n",
    ")\n",
    "\n",
    "print(response.choices[0].text)"
   ]
  },
  {
   "cell_type": "markdown",
   "id": "13eabbc7-36d5-4b3f-9091-f745993fdee9",
   "metadata": {},
   "source": [
    "## 함수"
   ]
  },
  {
   "cell_type": "code",
   "execution_count": 52,
   "id": "882950ac-89e6-4348-8d9f-de229cda47a6",
   "metadata": {},
   "outputs": [
    {
     "data": {
      "text/plain": [
       "'\\n\\nSELECT * FROM users WHERE age > 35;'"
      ]
     },
     "execution_count": 52,
     "metadata": {},
     "output_type": "execute_result"
    }
   ],
   "source": [
    "#| label: sql-function\n",
    "\n",
    "def generate_sql_query(prompt, max_tokens = 100):\n",
    "    response = openai.Completion.create(\n",
    "        engine=\"text-davinci-003\",\n",
    "        prompt=prompt,\n",
    "        temperature=0,\n",
    "        max_tokens=max_tokens\n",
    "    )\n",
    "    return response.choices[0].text\n",
    "\n",
    "generate_sql_query(\"Get all the users that are older than 35 years old from users table\")"
   ]
  },
  {
   "cell_type": "markdown",
   "id": "0e732f0c-dfbf-49f3-9267-91c44665d687",
   "metadata": {},
   "source": [
    "## CLI 구현"
   ]
  },
  {
   "cell_type": "code",
   "execution_count": 18,
   "id": "19476fab-de2f-4c6b-8816-fc5c12ea7d11",
   "metadata": {
    "tags": []
   },
   "outputs": [
    {
     "name": "stdin",
     "output_type": "stream",
     "text": [
      "SQL문 작성 프롬프트를 입력하세요:  user 테이블에서 35세이상 사용자 추출하세요\n"
     ]
    },
    {
     "name": "stdout",
     "output_type": "stream",
     "text": [
      ".\n",
      "\n",
      "SELECT * FROM user WHERE age >= 35;\n"
     ]
    }
   ],
   "source": [
    "prompt = input(\"SQL문 작성 프롬프트를 입력하세요: \")  # user 테이블에서 35세이상 사용자 추출하세요\n",
    "print(generate_sql_query(prompt))"
   ]
  },
  {
   "cell_type": "markdown",
   "id": "192ac9e5-a640-4ddd-9180-96e91d8140c8",
   "metadata": {},
   "source": [
    "# Langchain + SQL"
   ]
  },
  {
   "cell_type": "code",
   "execution_count": 53,
   "id": "bc88b775-f224-423e-a455-5b91ef2beb7a",
   "metadata": {},
   "outputs": [
    {
     "name": "stdout",
     "output_type": "stream",
     "text": [
      "\n",
      "\n",
      "\u001b[1m> Entering new SQLDatabaseChain chain...\u001b[0m\n",
      "How many tables are there? If there exists tables, list table names\n",
      "SQLQuery:\u001b[32;1m\u001b[1;3m SELECT name FROM sqlite_master WHERE type='table';\u001b[0m\n",
      "SQLResult: \u001b[33;1m\u001b[1;3m[('Person',), ('Site',), ('Survey',), ('Visited',)]\u001b[0m\n",
      "Answer:\u001b[32;1m\u001b[1;3m There are 4 tables: Person, Site, Survey, Visited.\u001b[0m\n",
      "\u001b[1m> Finished chain.\u001b[0m\n"
     ]
    },
    {
     "data": {
      "text/plain": [
       "' There are 4 tables: Person, Site, Survey, Visited.'"
      ]
     },
     "execution_count": 53,
     "metadata": {},
     "output_type": "execute_result"
    }
   ],
   "source": [
    "#| label: sql-survey\n",
    "\n",
    "from langchain import OpenAI, SQLDatabase, SQLDatabaseChain\n",
    "dvd_db = SQLDatabase.from_uri(\"sqlite:///survey.db\")\n",
    "llm = OpenAI(temperature=0)\n",
    "\n",
    "db_chain = SQLDatabaseChain.from_llm(llm, dvd_db, verbose=True)\n",
    "db_chain.run(\"How many tables are there? If there exists tables, list table names\")"
   ]
  },
  {
   "cell_type": "code",
   "execution_count": 16,
   "id": "d845607f-7bbd-46fe-a34e-79f3569adc68",
   "metadata": {},
   "outputs": [
    {
     "name": "stdout",
     "output_type": "stream",
     "text": [
      "\n",
      "\n",
      "\u001b[1m> Entering new SQLDatabaseChain chain...\u001b[0m\n",
      "Write a query that selects distinct dates from the Visited table.\n",
      "SQLQuery:\u001b[32;1m\u001b[1;3m SELECT DISTINCT dated FROM Visited;\u001b[0m\n",
      "SQLResult: \u001b[33;1m\u001b[1;3m[('1927-02-08',), ('1927-02-10',), ('1930-01-07',), ('1930-01-12',), ('1930-02-26',), (None,), ('1932-01-14',), ('1932-03-22',)]\u001b[0m\n",
      "Answer:\u001b[32;1m\u001b[1;3m The distinct dates from the Visited table are 1927-02-08, 1927-02-10, 1930-01-07, 1930-01-12, 1930-02-26, None, 1932-01-14, and 1932-03-22.\u001b[0m\n",
      "\u001b[1m> Finished chain.\u001b[0m\n"
     ]
    },
    {
     "data": {
      "text/plain": [
       "' The distinct dates from the Visited table are 1927-02-08, 1927-02-10, 1930-01-07, 1930-01-12, 1930-02-26, None, 1932-01-14, and 1932-03-22.'"
      ]
     },
     "execution_count": 16,
     "metadata": {},
     "output_type": "execute_result"
    }
   ],
   "source": [
    "db_chain.run(\"Write a query that selects distinct dates from the Visited table.\")"
   ]
  },
  {
   "cell_type": "code",
   "execution_count": 55,
   "id": "a4ad89c4-11f6-425b-8bc3-cde096ef8082",
   "metadata": {},
   "outputs": [
    {
     "name": "stdout",
     "output_type": "stream",
     "text": [
      "\n",
      "\n",
      "\u001b[1m> Entering new SQLDatabaseChain chain...\u001b[0m\n",
      "Write a query that displays the full names of the scientists in the Person table, ordered by family name.\n",
      "SQLQuery:\u001b[32;1m\u001b[1;3m SELECT \"personal\" || ' ' || \"family\" AS \"Full Name\" FROM \"Person\" ORDER BY \"family\" ASC LIMIT 5;\u001b[0m\n",
      "SQLResult: \u001b[33;1m\u001b[1;3m[('Frank Danforth',), ('William Dyer',), ('Anderson Lake',), ('Frank Pabodie',), ('Valentina Roerich',)]\u001b[0m\n",
      "Answer:\u001b[32;1m\u001b[1;3m The full names of the scientists in the Person table, ordered by family name, are Frank Danforth, William Dyer, Anderson Lake, Frank Pabodie, and Valentina Roerich.\u001b[0m\n",
      "\u001b[1m> Finished chain.\u001b[0m\n"
     ]
    },
    {
     "data": {
      "text/plain": [
       "' The full names of the scientists in the Person table, ordered by family name, are Frank Danforth, William Dyer, Anderson Lake, Frank Pabodie, and Valentina Roerich.'"
      ]
     },
     "execution_count": 55,
     "metadata": {},
     "output_type": "execute_result"
    }
   ],
   "source": [
    "#| label: sql-sort\n",
    "\n",
    "db_chain.run(\"Write a query that displays the full names of the scientists in the Person table, ordered by family name.\")"
   ]
  },
  {
   "cell_type": "code",
   "execution_count": 19,
   "id": "adc83520-c7c6-46cd-82d1-fe55db180cbe",
   "metadata": {},
   "outputs": [
    {
     "name": "stdout",
     "output_type": "stream",
     "text": [
      "\n",
      "\n",
      "\u001b[1m> Entering new SQLDatabaseChain chain...\u001b[0m\n",
      "Normalized salinity readings are supposed to be between 0.0 and 1.0.               Write a query that selects all records from Survey with salinity values outside this range.              print records\n",
      "SQLQuery:\u001b[32;1m\u001b[1;3m SELECT * FROM Survey WHERE quant = 'sal' AND reading NOT BETWEEN 0.0 AND 1.0;\u001b[0m\n",
      "SQLResult: \u001b[33;1m\u001b[1;3m[(752, 'roe', 'sal', 41.6), (837, 'roe', 'sal', 22.5)]\u001b[0m\n",
      "Answer:\u001b[32;1m\u001b[1;3m There are two records with salinity values outside the range of 0.0 and 1.0: (752, 'roe', 'sal', 41.6) and (837, 'roe', 'sal', 22.5).\u001b[0m\n",
      "\u001b[1m> Finished chain.\u001b[0m\n"
     ]
    },
    {
     "data": {
      "text/plain": [
       "\" There are two records with salinity values outside the range of 0.0 and 1.0: (752, 'roe', 'sal', 41.6) and (837, 'roe', 'sal', 22.5).\""
      ]
     },
     "execution_count": 19,
     "metadata": {},
     "output_type": "execute_result"
    }
   ],
   "source": [
    "db_chain.run('Normalized salinity readings are supposed to be between 0.0 and 1.0. \\\n",
    "              Write a query that selects all records from Survey with salinity values outside this range.\\\n",
    "              print records')"
   ]
  },
  {
   "cell_type": "code",
   "execution_count": 57,
   "id": "b5b8251b-42e5-4329-915f-7d21dae2150c",
   "metadata": {},
   "outputs": [
    {
     "name": "stdout",
     "output_type": "stream",
     "text": [
      "\n",
      "\n",
      "\u001b[1m> Entering new SQLDatabaseChain chain...\u001b[0m\n",
      "After further reading, we realize that Valentina Roerich(roe) was reporting salinity as percentages.              Write a query that returns all of her salinity measurements from the Survey table with the values divided by 100.\n",
      "SQLQuery:\u001b[32;1m\u001b[1;3m SELECT person, quant, reading/100 AS reading FROM Survey WHERE person = 'roe' AND quant = 'sal';\u001b[0m\n",
      "SQLResult: \u001b[33;1m\u001b[1;3m[('roe', 'sal', 0.41600000000000004), ('roe', 'sal', 0.225)]\u001b[0m\n",
      "Answer:\u001b[32;1m\u001b[1;3m Valentina Roerich reported salinity measurements of 0.416 and 0.225.\u001b[0m\n",
      "\u001b[1m> Finished chain.\u001b[0m\n"
     ]
    },
    {
     "data": {
      "text/plain": [
       "' Valentina Roerich reported salinity measurements of 0.416 and 0.225.'"
      ]
     },
     "execution_count": 57,
     "metadata": {},
     "output_type": "execute_result"
    }
   ],
   "source": [
    "#| label: sql-new-value\n",
    "db_chain.run('After further reading, we realize that Valentina Roerich(roe) was reporting salinity as percentages.\\\n",
    "              Write a query that returns all of her salinity measurements from the Survey table with the values divided by 100.')"
   ]
  },
  {
   "cell_type": "code",
   "execution_count": 26,
   "id": "a157d707-1980-4af0-b266-719a8b63536b",
   "metadata": {},
   "outputs": [
    {
     "name": "stdout",
     "output_type": "stream",
     "text": [
      "\n",
      "\n",
      "\u001b[1m> Entering new SQLDatabaseChain chain...\u001b[0m\n",
      "How many temperature readings from quant did Frank Pabodie(pb) record, and what was their average value?\n",
      "SQLQuery:\u001b[32;1m\u001b[1;3m SELECT COUNT(quant), AVG(reading) FROM Survey WHERE person = 'pb' AND quant = 'temp';\u001b[0m\n",
      "SQLResult: \u001b[33;1m\u001b[1;3m[(2, -20.0)]\u001b[0m\n",
      "Answer:\u001b[32;1m\u001b[1;3m Frank Pabodie recorded 2 temperature readings, with an average value of -20.0.\u001b[0m\n",
      "\u001b[1m> Finished chain.\u001b[0m\n"
     ]
    },
    {
     "data": {
      "text/plain": [
       "' Frank Pabodie recorded 2 temperature readings, with an average value of -20.0.'"
      ]
     },
     "execution_count": 26,
     "metadata": {},
     "output_type": "execute_result"
    }
   ],
   "source": [
    "db_chain.run('How many temperature readings from quant did Frank Pabodie(pb) record, and what was their average value?')"
   ]
  },
  {
   "cell_type": "code",
   "execution_count": 29,
   "id": "b40e9884-02e6-4f31-b61e-612824f21b79",
   "metadata": {},
   "outputs": [
    {
     "name": "stdout",
     "output_type": "stream",
     "text": [
      "\n",
      "\n",
      "\u001b[1m> Entering new SQLDatabaseChain chain...\u001b[0m\n",
      "Write a query that lists all sites visited by people named \"Frank\". write sql step-by-step\n",
      "SQLQuery:\u001b[32;1m\u001b[1;3m SELECT Site.name \n",
      "FROM Site \n",
      "INNER JOIN Visited \n",
      "ON Site.name = Visited.site \n",
      "INNER JOIN Person \n",
      "ON Visited.id = Person.id \n",
      "WHERE Person.personal = \"Frank\"\u001b[0m\n",
      "SQLResult: \u001b[33;1m\u001b[1;3m[]\u001b[0m\n",
      "Answer:\u001b[32;1m\u001b[1;3m No sites were visited by people named \"Frank\".\u001b[0m\n",
      "\u001b[1m> Finished chain.\u001b[0m\n"
     ]
    },
    {
     "data": {
      "text/plain": [
       "' No sites were visited by people named \"Frank\".'"
      ]
     },
     "execution_count": 29,
     "metadata": {},
     "output_type": "execute_result"
    }
   ],
   "source": [
    "db_chain.run('Write a query that lists all sites visited by people named \"Frank\". write sql step-by-step')"
   ]
  },
  {
   "cell_type": "markdown",
   "id": "ff18236f-0988-47c7-8683-c138a775a0c1",
   "metadata": {},
   "source": [
    "# DB 스키마"
   ]
  },
  {
   "cell_type": "code",
   "execution_count": null,
   "id": "58227788-d442-4dcd-9f88-0ecaedc33637",
   "metadata": {},
   "outputs": [
    {
     "name": "stdout",
     "output_type": "stream",
     "text": [
      "\n",
      "\n",
      "\u001b[1m> Entering new SQLDatabaseChain chain...\u001b[0m\n",
      "print database schema info\n",
      "SQLQuery:\u001b[32;1m\u001b[1;3m SELECT * FROM sqlite_master;\u001b[0m\n",
      "SQLResult: \u001b[33;1m\u001b[1;3m[('table', 'Person', 'Person', 2, 'CREATE TABLE Person (id text, personal text, family text)'), ('table', 'Site', 'Site', 3, 'CREATE TABLE Site (name text, lat real, long real)'), ('table', 'Survey', 'Survey', 5, 'CREATE TABLE Survey (taken integer, person text, quant text, reading real)'), ('table', 'Visited', 'Visited', 4, 'CREATE TABLE Visited (id integer, site text, dated text)')]\u001b[0m\n",
      "Answer:\u001b[32;1m\u001b[1;3m The database schema info is: Person (id text, personal text, family text), Site (name text, lat real, long real), Survey (taken integer, person text, quant text, reading real), Visited (id integer, site text, dated text).\u001b[0m\n",
      "\u001b[1m> Finished chain.\u001b[0m\n"
     ]
    },
    {
     "data": {
      "text/plain": [
       "' The database schema info is: Person (id text, personal text, family text), Site (name text, lat real, long real), Survey (taken integer, person text, quant text, reading real), Visited (id integer, site text, dated text).'"
      ]
     },
     "execution_count": 58,
     "metadata": {},
     "output_type": "execute_result"
    }
   ],
   "source": [
    "#| label: sql-db-info\n",
    "db_chain.run('print database schema info')"
   ]
  },
  {
   "cell_type": "code",
   "execution_count": null,
   "id": "0488792a-c96c-4fe1-9bd4-c578f61893e9",
   "metadata": {},
   "outputs": [],
   "source": [
    "#| label: sql-chatGPT\n",
    "\n",
    "system_prompt = \"\"\"\n",
    "    You are the world's best SQL expert. Help me convert natural language to valid SQL queries. Only respond with valid SQL queries, nothing else.\n",
    "    You must learn the column names based on the information the user gives you and build valid SQL queries. Never guess the column names.\n",
    "    These are the examples:\n",
    "\n",
    "    query: get all people names\n",
    "    answer: SELECT name from people;\n",
    "\n",
    "    query: get all cars whose owner name is aaron\n",
    "    answer: SELECT c.* FROM people p JOIN cars c ON p.id = c.owner_id WHERE p.name = 'aaron';\n",
    "\"\"\"\n",
    "\n",
    "query='Write a query that lists all radiation readings from the DR-1 site step-by-step'\n",
    "\n",
    "user_prompt = f\"\"\"\n",
    "    This is my database information:\n",
    "    Person (id text, personal text, family text), \n",
    "    Site (name text, lat real, long real), \n",
    "    Survey (taken integer, person text, quant text, reading real), \n",
    "    Visited (id integer, site text, dated text)\n",
    "\n",
    "    query: {query}\n",
    "    answer:\n",
    "\"\"\"\n",
    "\n",
    "\n",
    "\n",
    "completion = openai.ChatCompletion.create(\n",
    "    model=\"gpt-3.5-turbo\",\n",
    "    messages=[\n",
    "        {\"role\": \"system\", \"content\": system_prompt},\n",
    "        {\"role\": \"user\", \"content\": user_prompt},\n",
    "    ],\n",
    ")\n",
    "print(completion.choices[0].message.content)"
   ]
  },
  {
   "cell_type": "code",
   "execution_count": null,
   "id": "bdce12e2-f3b7-44ed-a9cc-3195d4d3eb0e",
   "metadata": {},
   "outputs": [
    {
     "name": "stdout",
     "output_type": "stream",
     "text": [
      "To write a query that lists all radiation readings from the DR-1 site, we can follow these steps:\n",
      "\n",
      "1. Determine the ID of the DR-1 site by querying the Site table. We will assume that the ID of the DR-1 site is 'DR-1'.\n",
      "\n",
      "2. Join the Visited and Survey tables on the site column to only include records from the DR-1 site.\n",
      "\n",
      "3. Filter the result to only show records with quant column equal to 'rad'.\n",
      "\n",
      "4. Select the reading column to get the radiation readings.\n",
      "\n",
      "The SQL query that accomplishes this is:\n",
      "\n",
      "    SELECT s.reading\n",
      "    FROM Visited v\n",
      "    JOIN Survey s ON v.id = s.taken AND v.site = 'DR-1'\n",
      "    WHERE s.quant = 'rad';\n"
     ]
    }
   ],
   "source": [
    "print(completion.choices[0].message.content)"
   ]
  }
 ],
 "metadata": {
  "kernelspec": {
   "display_name": "Python 3 (ipykernel)",
   "language": "python",
   "name": "python3"
  },
  "language_info": {
   "codemirror_mode": {
    "name": "ipython",
    "version": 3
   },
   "file_extension": ".py",
   "mimetype": "text/x-python",
   "name": "python",
   "nbconvert_exporter": "python",
   "pygments_lexer": "ipython3",
   "version": "3.9.16"
  }
 },
 "nbformat": 4,
 "nbformat_minor": 5
}
