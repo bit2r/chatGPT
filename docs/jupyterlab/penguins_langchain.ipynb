{
 "cells": [
  {
   "cell_type": "markdown",
   "id": "4d6fbfa8-9ace-4ecf-993a-64c42b69087f",
   "metadata": {},
   "source": [
    "# 사전준비\n",
    "## OpenAI 설정"
   ]
  },
  {
   "cell_type": "code",
   "execution_count": 62,
   "id": "304a8620-b79c-49e5-9d0a-ef3d5cb45296",
   "metadata": {},
   "outputs": [],
   "source": [
    "#| label: openai-setup\n",
    "import openai\n",
    "import os\n",
    "\n",
    "from dotenv import load_dotenv, find_dotenv\n",
    "_ = load_dotenv(find_dotenv())\n",
    "\n",
    "openai.api_key  = os.getenv('ENV_OPENAI_API_KEY')"
   ]
  },
  {
   "cell_type": "markdown",
   "id": "901ea5f5-0b27-4ac2-9072-6113a1e21995",
   "metadata": {},
   "source": [
    "## 데이터셋"
   ]
  },
  {
   "cell_type": "code",
   "execution_count": 63,
   "id": "9190185c-3352-4a98-bb36-b177cb04f2ff",
   "metadata": {},
   "outputs": [
    {
     "data": {
      "text/html": [
       "<div>\n",
       "<style scoped>\n",
       "    .dataframe tbody tr th:only-of-type {\n",
       "        vertical-align: middle;\n",
       "    }\n",
       "\n",
       "    .dataframe tbody tr th {\n",
       "        vertical-align: top;\n",
       "    }\n",
       "\n",
       "    .dataframe thead th {\n",
       "        text-align: right;\n",
       "    }\n",
       "</style>\n",
       "<table border=\"1\" class=\"dataframe\">\n",
       "  <thead>\n",
       "    <tr style=\"text-align: right;\">\n",
       "      <th></th>\n",
       "      <th>species</th>\n",
       "      <th>island</th>\n",
       "      <th>bill_length_mm</th>\n",
       "      <th>bill_depth_mm</th>\n",
       "      <th>flipper_length_mm</th>\n",
       "      <th>body_mass_g</th>\n",
       "      <th>sex</th>\n",
       "      <th>year</th>\n",
       "    </tr>\n",
       "  </thead>\n",
       "  <tbody>\n",
       "    <tr>\n",
       "      <th>0</th>\n",
       "      <td>Adelie</td>\n",
       "      <td>Torgersen</td>\n",
       "      <td>39.1</td>\n",
       "      <td>18.7</td>\n",
       "      <td>181.0</td>\n",
       "      <td>3750.0</td>\n",
       "      <td>male</td>\n",
       "      <td>2007</td>\n",
       "    </tr>\n",
       "    <tr>\n",
       "      <th>1</th>\n",
       "      <td>Adelie</td>\n",
       "      <td>Torgersen</td>\n",
       "      <td>39.5</td>\n",
       "      <td>17.4</td>\n",
       "      <td>186.0</td>\n",
       "      <td>3800.0</td>\n",
       "      <td>female</td>\n",
       "      <td>2007</td>\n",
       "    </tr>\n",
       "    <tr>\n",
       "      <th>2</th>\n",
       "      <td>Adelie</td>\n",
       "      <td>Torgersen</td>\n",
       "      <td>40.3</td>\n",
       "      <td>18.0</td>\n",
       "      <td>195.0</td>\n",
       "      <td>3250.0</td>\n",
       "      <td>female</td>\n",
       "      <td>2007</td>\n",
       "    </tr>\n",
       "    <tr>\n",
       "      <th>3</th>\n",
       "      <td>Adelie</td>\n",
       "      <td>Torgersen</td>\n",
       "      <td>NaN</td>\n",
       "      <td>NaN</td>\n",
       "      <td>NaN</td>\n",
       "      <td>NaN</td>\n",
       "      <td>NaN</td>\n",
       "      <td>2007</td>\n",
       "    </tr>\n",
       "    <tr>\n",
       "      <th>4</th>\n",
       "      <td>Adelie</td>\n",
       "      <td>Torgersen</td>\n",
       "      <td>36.7</td>\n",
       "      <td>19.3</td>\n",
       "      <td>193.0</td>\n",
       "      <td>3450.0</td>\n",
       "      <td>female</td>\n",
       "      <td>2007</td>\n",
       "    </tr>\n",
       "  </tbody>\n",
       "</table>\n",
       "</div>"
      ],
      "text/plain": [
       "  species     island  bill_length_mm  bill_depth_mm  flipper_length_mm   \n",
       "0  Adelie  Torgersen            39.1           18.7              181.0  \\\n",
       "1  Adelie  Torgersen            39.5           17.4              186.0   \n",
       "2  Adelie  Torgersen            40.3           18.0              195.0   \n",
       "3  Adelie  Torgersen             NaN            NaN                NaN   \n",
       "4  Adelie  Torgersen            36.7           19.3              193.0   \n",
       "\n",
       "   body_mass_g     sex  year  \n",
       "0       3750.0    male  2007  \n",
       "1       3800.0  female  2007  \n",
       "2       3250.0  female  2007  \n",
       "3          NaN     NaN  2007  \n",
       "4       3450.0  female  2007  "
      ]
     },
     "execution_count": 63,
     "metadata": {},
     "output_type": "execute_result"
    }
   ],
   "source": [
    "#| label: penguins-dataset\n",
    "# !pip install palmerpenguins\n",
    "import pandas as pd\n",
    "from palmerpenguins import load_penguins\n",
    "\n",
    "penguins_raw = load_penguins()\n",
    "penguins_raw.head()"
   ]
  },
  {
   "cell_type": "markdown",
   "id": "960f1a31-3b1d-47ea-985f-d3de1f6cf2bb",
   "metadata": {},
   "source": [
    "## 결측값\n",
    "### 결측값 현황"
   ]
  },
  {
   "cell_type": "code",
   "execution_count": 64,
   "id": "3ba94a14-2069-400b-aeb5-671a85795afe",
   "metadata": {},
   "outputs": [
    {
     "data": {
      "text/html": [
       "<div>\n",
       "<style scoped>\n",
       "    .dataframe tbody tr th:only-of-type {\n",
       "        vertical-align: middle;\n",
       "    }\n",
       "\n",
       "    .dataframe tbody tr th {\n",
       "        vertical-align: top;\n",
       "    }\n",
       "\n",
       "    .dataframe thead th {\n",
       "        text-align: right;\n",
       "    }\n",
       "</style>\n",
       "<table border=\"1\" class=\"dataframe\">\n",
       "  <thead>\n",
       "    <tr style=\"text-align: right;\">\n",
       "      <th></th>\n",
       "      <th>variable</th>\n",
       "      <th>dtype</th>\n",
       "      <th>count</th>\n",
       "      <th>unique</th>\n",
       "      <th>missing</th>\n",
       "      <th>pc_missing</th>\n",
       "    </tr>\n",
       "  </thead>\n",
       "  <tbody>\n",
       "    <tr>\n",
       "      <th>0</th>\n",
       "      <td>species</td>\n",
       "      <td>object</td>\n",
       "      <td>344</td>\n",
       "      <td>3</td>\n",
       "      <td>0</td>\n",
       "      <td>0.00</td>\n",
       "    </tr>\n",
       "    <tr>\n",
       "      <th>1</th>\n",
       "      <td>island</td>\n",
       "      <td>object</td>\n",
       "      <td>344</td>\n",
       "      <td>3</td>\n",
       "      <td>0</td>\n",
       "      <td>0.00</td>\n",
       "    </tr>\n",
       "    <tr>\n",
       "      <th>2</th>\n",
       "      <td>bill_length_mm</td>\n",
       "      <td>float64</td>\n",
       "      <td>344</td>\n",
       "      <td>165</td>\n",
       "      <td>2</td>\n",
       "      <td>0.58</td>\n",
       "    </tr>\n",
       "    <tr>\n",
       "      <th>3</th>\n",
       "      <td>bill_depth_mm</td>\n",
       "      <td>float64</td>\n",
       "      <td>344</td>\n",
       "      <td>81</td>\n",
       "      <td>2</td>\n",
       "      <td>0.58</td>\n",
       "    </tr>\n",
       "    <tr>\n",
       "      <th>4</th>\n",
       "      <td>flipper_length_mm</td>\n",
       "      <td>float64</td>\n",
       "      <td>344</td>\n",
       "      <td>56</td>\n",
       "      <td>2</td>\n",
       "      <td>0.58</td>\n",
       "    </tr>\n",
       "    <tr>\n",
       "      <th>5</th>\n",
       "      <td>body_mass_g</td>\n",
       "      <td>float64</td>\n",
       "      <td>344</td>\n",
       "      <td>95</td>\n",
       "      <td>2</td>\n",
       "      <td>0.58</td>\n",
       "    </tr>\n",
       "    <tr>\n",
       "      <th>6</th>\n",
       "      <td>sex</td>\n",
       "      <td>object</td>\n",
       "      <td>344</td>\n",
       "      <td>3</td>\n",
       "      <td>11</td>\n",
       "      <td>3.20</td>\n",
       "    </tr>\n",
       "    <tr>\n",
       "      <th>7</th>\n",
       "      <td>year</td>\n",
       "      <td>int64</td>\n",
       "      <td>344</td>\n",
       "      <td>3</td>\n",
       "      <td>0</td>\n",
       "      <td>0.00</td>\n",
       "    </tr>\n",
       "  </tbody>\n",
       "</table>\n",
       "</div>"
      ],
      "text/plain": [
       "            variable    dtype  count  unique  missing  pc_missing\n",
       "0            species   object    344       3        0        0.00\n",
       "1             island   object    344       3        0        0.00\n",
       "2     bill_length_mm  float64    344     165        2        0.58\n",
       "3      bill_depth_mm  float64    344      81        2        0.58\n",
       "4  flipper_length_mm  float64    344      56        2        0.58\n",
       "5        body_mass_g  float64    344      95        2        0.58\n",
       "6                sex   object    344       3       11        3.20\n",
       "7               year    int64    344       3        0        0.00"
      ]
     },
     "execution_count": 64,
     "metadata": {},
     "output_type": "execute_result"
    }
   ],
   "source": [
    "#| label: missing-values\n",
    "def show_missing(df):\n",
    "    \"\"\"Return a Pandas dataframe describing the contents of a source dataframe including missing values.\"\"\"\n",
    "    \n",
    "    variables = []\n",
    "    dtypes = []\n",
    "    count = []\n",
    "    unique = []\n",
    "    missing = []\n",
    "    pc_missing = []\n",
    "    \n",
    "    for item in df.columns:\n",
    "        variables.append(item)\n",
    "        dtypes.append(df[item].dtype)\n",
    "        count.append(len(df[item]))\n",
    "        unique.append(len(df[item].unique()))\n",
    "        missing.append(df[item].isna().sum())\n",
    "        pc_missing.append(round((df[item].isna().sum() / len(df[item])) * 100, 2))\n",
    "\n",
    "    output = pd.DataFrame({\n",
    "        'variable': variables, \n",
    "        'dtype': dtypes,\n",
    "        'count': count,\n",
    "        'unique': unique,\n",
    "        'missing': missing, \n",
    "        'pc_missing': pc_missing\n",
    "    })    \n",
    "        \n",
    "    return output\n",
    "# penguins.isna().sum()\n",
    "show_missing(penguins_raw)"
   ]
  },
  {
   "cell_type": "markdown",
   "id": "16b9c4e9-9334-44bc-b4bf-81c3f61bf57f",
   "metadata": {},
   "source": [
    "### 결측값 제거"
   ]
  },
  {
   "cell_type": "code",
   "execution_count": 74,
   "id": "301e108d-0891-4d8e-a863-638982612431",
   "metadata": {},
   "outputs": [
    {
     "name": "stdout",
     "output_type": "stream",
     "text": [
      "> Pandas Instructions:\n",
      "```\n",
      "\n",
      "df.dropna()\n",
      "```\n",
      "> Pandas Output:        species     island  bill_length_mm  bill_depth_mm  flipper_length_mm   \n",
      "0       Adelie  Torgersen            39.1           18.7              181.0  \\\n",
      "1       Adelie  Torgersen            39.5           17.4              186.0   \n",
      "2       Adelie  Torgersen            40.3           18.0              195.0   \n",
      "4       Adelie  Torgersen            36.7           19.3              193.0   \n",
      "5       Adelie  Torgersen            39.3           20.6              190.0   \n",
      "..         ...        ...             ...            ...                ...   \n",
      "339  Chinstrap      Dream            55.8           19.8              207.0   \n",
      "340  Chinstrap      Dream            43.5           18.1              202.0   \n",
      "341  Chinstrap      Dream            49.6           18.2              193.0   \n",
      "342  Chinstrap      Dream            50.8           19.0              210.0   \n",
      "343  Chinstrap      Dream            50.2           18.7              198.0   \n",
      "\n",
      "     body_mass_g     sex  year  \n",
      "0         3750.0    male  2007  \n",
      "1         3800.0  female  2007  \n",
      "2         3250.0  female  2007  \n",
      "4         3450.0  female  2007  \n",
      "5         3650.0    male  2007  \n",
      "..           ...     ...   ...  \n",
      "339       4000.0    male  2009  \n",
      "340       3400.0  female  2009  \n",
      "341       3775.0    male  2009  \n",
      "342       4100.0    male  2009  \n",
      "343       3775.0  female  2009  \n",
      "\n",
      "[333 rows x 8 columns]\n",
      "       species     island  bill_length_mm  bill_depth_mm  flipper_length_mm   \n",
      "0       Adelie  Torgersen            39.1           18.7              181.0  \\\n",
      "1       Adelie  Torgersen            39.5           17.4              186.0   \n",
      "2       Adelie  Torgersen            40.3           18.0              195.0   \n",
      "4       Adelie  Torgersen            36.7           19.3              193.0   \n",
      "5       Adelie  Torgersen            39.3           20.6              190.0   \n",
      "..         ...        ...             ...            ...                ...   \n",
      "339  Chinstrap      Dream            55.8           19.8              207.0   \n",
      "340  Chinstrap      Dream            43.5           18.1              202.0   \n",
      "341  Chinstrap      Dream            49.6           18.2              193.0   \n",
      "342  Chinstrap      Dream            50.8           19.0              210.0   \n",
      "343  Chinstrap      Dream            50.2           18.7              198.0   \n",
      "\n",
      "     body_mass_g     sex  year  \n",
      "0         3750.0    male  2007  \n",
      "1         3800.0  female  2007  \n",
      "2         3250.0  female  2007  \n",
      "4         3450.0  female  2007  \n",
      "5         3650.0    male  2007  \n",
      "..           ...     ...   ...  \n",
      "339       4000.0    male  2009  \n",
      "340       3400.0  female  2009  \n",
      "341       3775.0    male  2009  \n",
      "342       4100.0    male  2009  \n",
      "343       3775.0  female  2009  \n",
      "\n",
      "[333 rows x 8 columns]\n"
     ]
    }
   ],
   "source": [
    "#| label: missing-values-remove\n",
    "# !pip install llama-index\n",
    "# penguins = penguins_raw.dropna()\n",
    "\n",
    "import pandas as pd\n",
    "from llama_index.indices.struct_store import GPTPandasIndex\n",
    "\n",
    "penguins_raw_idx = GPTPandasIndex(df=penguins_raw)\n",
    "raw_query_engine = penguins_raw_idx.as_query_engine(verbose=True)\n",
    "response = raw_query_engine.query(\"\"\"remove NaN values from the dataframe\"\"\")\n",
    "# response = query_engine.query(\"\"\"What is the pairwise correlation of the float64 datatype columns\"\"\")\n",
    " \n",
    "print(response.response)"
   ]
  },
  {
   "cell_type": "markdown",
   "id": "f69d8303-9287-4119-9886-a08c1f96adfd",
   "metadata": {},
   "source": [
    "# 챗GPT 데이터 연결"
   ]
  },
  {
   "cell_type": "code",
   "execution_count": 73,
   "id": "5c6197b9-e819-4f56-acac-3d701330aaea",
   "metadata": {},
   "outputs": [
    {
     "name": "stdout",
     "output_type": "stream",
     "text": [
      "> Pandas Instructions:\n",
      "```\n",
      "{'rows': df.shape[0], 'columns': df.shape[1]}\n",
      "```\n",
      "> Pandas Output: {'rows': 333, 'columns': 8}\n",
      "{'rows': 333, 'columns': 8}\n"
     ]
    }
   ],
   "source": [
    "#| label: llama-setup\n",
    "\n",
    "penguins = penguins_raw.dropna()\n",
    "\n",
    "penguins_idx = GPTPandasIndex(df=penguins)\n",
    "query_engine = penguins_idx.as_query_engine(verbose=True)\n",
    "\n",
    "#response = query_engine.query(\"\"\"데이터셋에 있는 행 수와 열 수를 반환합니다.\\n\n",
    "#                                 응답은 다음 태그에 표시된 대로 키-값 객체여야 합니다.\\n \n",
    "#                                 <{'행':..., '열':...}>\"\"\")\n",
    "\n",
    "response = query_engine.query(\"\"\"Return how many rows and how many columns are in the dataset.\\n\n",
    "                                 The response must be a key-value object as we show in the tags:\\n \n",
    "                                 <{'rows':..., 'columns':...}>\"\"\")\n",
    " \n",
    "print(response.response)"
   ]
  },
  {
   "cell_type": "markdown",
   "id": "651d8105-9ab3-4b8b-ab4b-e34ac443a781",
   "metadata": {},
   "source": [
    "# 데이터 살펴보기"
   ]
  },
  {
   "cell_type": "code",
   "execution_count": 67,
   "id": "586d5076-5ffc-45eb-8a99-4ede44159679",
   "metadata": {},
   "outputs": [
    {
     "name": "stdout",
     "output_type": "stream",
     "text": [
      "<class 'pandas.core.frame.DataFrame'>\n",
      "Index: 333 entries, 0 to 343\n",
      "Data columns (total 8 columns):\n",
      " #   Column             Non-Null Count  Dtype  \n",
      "---  ------             --------------  -----  \n",
      " 0   species            333 non-null    object \n",
      " 1   island             333 non-null    object \n",
      " 2   bill_length_mm     333 non-null    float64\n",
      " 3   bill_depth_mm      333 non-null    float64\n",
      " 4   flipper_length_mm  333 non-null    float64\n",
      " 5   body_mass_g        333 non-null    float64\n",
      " 6   sex                333 non-null    object \n",
      " 7   year               333 non-null    int64  \n",
      "dtypes: float64(4), int64(1), object(3)\n",
      "memory usage: 23.4+ KB\n"
     ]
    }
   ],
   "source": [
    "penguins.info()"
   ]
  },
  {
   "cell_type": "markdown",
   "id": "d2495ede-9a11-4526-b802-abb79dae3ba2",
   "metadata": {},
   "source": [
    "# 상관관계"
   ]
  },
  {
   "cell_type": "code",
   "execution_count": 68,
   "id": "e6386aa8-8ee6-42a5-aceb-686037dbe06a",
   "metadata": {
    "tags": []
   },
   "outputs": [
    {
     "name": "stdout",
     "output_type": "stream",
     "text": [
      "> Pandas Instructions:\n",
      "```\n",
      "\n",
      "df.select_dtypes(include=['float64']).corr(method='pearson')\n",
      "```\n",
      "> Pandas Output:                    bill_length_mm  bill_depth_mm  flipper_length_mm   \n",
      "bill_length_mm           1.000000      -0.228626           0.653096  \\\n",
      "bill_depth_mm           -0.228626       1.000000          -0.577792   \n",
      "flipper_length_mm        0.653096      -0.577792           1.000000   \n",
      "body_mass_g              0.589451      -0.472016           0.872979   \n",
      "\n",
      "                   body_mass_g  \n",
      "bill_length_mm        0.589451  \n",
      "bill_depth_mm        -0.472016  \n",
      "flipper_length_mm     0.872979  \n",
      "body_mass_g           1.000000  \n",
      "                   bill_length_mm  bill_depth_mm  flipper_length_mm   \n",
      "bill_length_mm           1.000000      -0.228626           0.653096  \\\n",
      "bill_depth_mm           -0.228626       1.000000          -0.577792   \n",
      "flipper_length_mm        0.653096      -0.577792           1.000000   \n",
      "body_mass_g              0.589451      -0.472016           0.872979   \n",
      "\n",
      "                   body_mass_g  \n",
      "bill_length_mm        0.589451  \n",
      "bill_depth_mm        -0.472016  \n",
      "flipper_length_mm     0.872979  \n",
      "body_mass_g           1.000000  \n"
     ]
    }
   ],
   "source": [
    "#| label: llama-correlation\n",
    "response = query_engine.query(\"\"\"list the float64 datatype columns and calculate the pairwise correlation of the float64 datatype columns\"\"\")\n",
    "# response = query_engine.query(\"\"\"What is the pairwise correlation of the float64 datatype columns\"\"\")\n",
    " \n",
    "print(response.response)"
   ]
  },
  {
   "cell_type": "markdown",
   "id": "95af61d5-546a-43de-b810-867cc7c08677",
   "metadata": {},
   "source": [
    "# 요약통계량"
   ]
  },
  {
   "cell_type": "code",
   "execution_count": 69,
   "id": "a7e0bd18-d9eb-48d7-9fe1-49c82329bb69",
   "metadata": {},
   "outputs": [
    {
     "name": "stdout",
     "output_type": "stream",
     "text": [
      "> Pandas Instructions:\n",
      "```\n",
      "\n",
      "df.groupby('species')[['bill_length_mm', 'bill_depth_mm', 'flipper_length_mm', 'body_mass_g']].mean().reset_index()\n",
      "```\n",
      "> Pandas Output:      species  bill_length_mm  bill_depth_mm  flipper_length_mm  body_mass_g\n",
      "0     Adelie       38.823973      18.347260         190.102740  3706.164384\n",
      "1  Chinstrap       48.833824      18.420588         195.823529  3733.088235\n",
      "2     Gentoo       47.568067      14.996639         217.235294  5092.436975\n",
      "     species  bill_length_mm  bill_depth_mm  flipper_length_mm  body_mass_g\n",
      "0     Adelie       38.823973      18.347260         190.102740  3706.164384\n",
      "1  Chinstrap       48.833824      18.420588         195.823529  3733.088235\n",
      "2     Gentoo       47.568067      14.996639         217.235294  5092.436975\n"
     ]
    }
   ],
   "source": [
    "#| label: llama-summary\n",
    "response = query_engine.query(\"\"\"list the float64 datatype columns and calcuate the average values by species\"\"\")\n",
    " \n",
    "print(response.response)"
   ]
  },
  {
   "cell_type": "markdown",
   "id": "67341cf1-a0a4-478d-a435-643d3f507ebf",
   "metadata": {
    "tags": []
   },
   "source": [
    "# 시각화\n",
    "## 산점도"
   ]
  },
  {
   "cell_type": "code",
   "execution_count": 70,
   "id": "8cabdd2e-ab98-4a82-9419-af8687add22d",
   "metadata": {},
   "outputs": [
    {
     "name": "stdout",
     "output_type": "stream",
     "text": [
      "> Pandas Instructions:\n",
      "```\n",
      "\n",
      "df.plot.scatter(x='body_mass_g', y='flipper_length_mm')\n",
      "```\n",
      "> Pandas Output: Axes(0.125,0.11;0.775x0.77)\n",
      "Axes(0.125,0.11;0.775x0.77)\n"
     ]
    },
    {
     "data": {
      "image/png": "[encoded data removed]",
      "text/plain": [
       "<Figure size 640x480 with 1 Axes>"
      ]
     },
     "metadata": {},
     "output_type": "display_data"
    }
   ],
   "source": [
    "#| label: llama-scatter\n",
    "response = query_engine.query(\"\"\"visualize two columns; body_mass_g and flipper_length_mm with scatterplot\"\"\")\n",
    " \n",
    "print(response.response)"
   ]
  },
  {
   "cell_type": "markdown",
   "id": "d015f3b3-13ff-4125-abc2-92fb198b9fde",
   "metadata": {},
   "source": [
    "## 히스토그램"
   ]
  },
  {
   "cell_type": "code",
   "execution_count": 71,
   "id": "b39f719e-3ef7-4c06-b28c-1c555acb4a41",
   "metadata": {},
   "outputs": [
    {
     "name": "stdout",
     "output_type": "stream",
     "text": [
      "> Pandas Instructions:\n",
      "```\n",
      "\n",
      "df.groupby('species')['body_mass_g'].plot.kde(legend=True, alpha=0.5)\n",
      "```\n",
      "> Pandas Output: species\n",
      "Adelie       Axes(0.125,0.11;0.775x0.77)\n",
      "Chinstrap    Axes(0.125,0.11;0.775x0.77)\n",
      "Gentoo       Axes(0.125,0.11;0.775x0.77)\n",
      "Name: body_mass_g, dtype: object\n",
      "species\n",
      "Adelie       Axes(0.125,0.11;0.775x0.77)\n",
      "Chinstrap    Axes(0.125,0.11;0.775x0.77)\n",
      "Gentoo       Axes(0.125,0.11;0.775x0.77)\n",
      "Name: body_mass_g, dtype: object\n"
     ]
    },
    {
     "data": {
      "image/png": "[encoded data removed]",
      "text/plain": [
       "<Figure size 640x480 with 1 Axes>"
      ]
     },
     "metadata": {},
     "output_type": "display_data"
    }
   ],
   "source": [
    "#| label: llama-histogram\n",
    "# import seaborn as sns\n",
    "response = query_engine.query(\"\"\"draw distribution plot for body_mass_g with transparency by species with legend\"\"\")\n",
    " \n",
    "print(response.response)"
   ]
  },
  {
   "cell_type": "markdown",
   "id": "3c37a0b0-3634-4719-b634-a5c22b5c7025",
   "metadata": {},
   "source": [
    "# 모형"
   ]
  },
  {
   "cell_type": "code",
   "execution_count": 72,
   "id": "96ce3046-081d-474c-a2d1-c307131eae65",
   "metadata": {},
   "outputs": [
    {
     "name": "stdout",
     "output_type": "stream",
     "text": [
      "> Pandas Instructions:\n",
      "```\n",
      "\n",
      "eval('LogisticRegression().fit(df[[\"bill_length_mm\", \"bill_depth_mm\", \"flipper_length_mm\", \"body_mass_g\"]], df[\"sex\"]).predict(df[[\"bill_length_mm\", \"bill_depth_mm\", \"flipper_length_mm\", \"body_mass_g\"]])')\n",
      "```\n",
      "> Pandas Output: There was an error running the output as Python code. Error message: name 'LogisticRegression' is not defined\n",
      "There was an error running the output as Python code. Error message: name 'LogisticRegression' is not defined\n"
     ]
    },
    {
     "name": "stderr",
     "output_type": "stream",
     "text": [
      "Traceback (most recent call last):\n",
      "  File \"C:\\Users\\statkclee\\anaconda3\\lib\\site-packages\\llama_index\\indices\\struct_store\\pandas_query.py\", line 58, in default_output_processor\n",
      "    raise e\n",
      "  File \"C:\\Users\\statkclee\\anaconda3\\lib\\site-packages\\llama_index\\indices\\struct_store\\pandas_query.py\", line 56, in default_output_processor\n",
      "    return str(eval(module_end_str, {}, local_vars))\n",
      "  File \"<string>\", line 1, in <module>\n",
      "  File \"<string>\", line 1, in <module>\n",
      "NameError: name 'LogisticRegression' is not defined\n"
     ]
    }
   ],
   "source": [
    "#| label: llama-model\n",
    "# !pip install -U scikit-learn\n",
    "from sklearn.linear_model import LogisticRegression\n",
    "response = query_engine.query(\"\"\"build a `sex` classification model using logistic regression step-by-step\"\"\")\n",
    " \n",
    "print(response.response)"
   ]
  }
 ],
 "metadata": {
  "kernelspec": {
   "display_name": "Python 3 (ipykernel)",
   "language": "python",
   "name": "python3"
  },
  "language_info": {
   "codemirror_mode": {
    "name": "ipython",
    "version": 3
   },
   "file_extension": ".py",
   "mimetype": "text/x-python",
   "name": "python",
   "nbconvert_exporter": "python",
   "pygments_lexer": "ipython3",
   "version": "3.9.16"
  }
 },
 "nbformat": 4,
 "nbformat_minor": 5
}
