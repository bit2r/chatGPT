{
  "cells": [
    {
      "cell_type": "markdown",
      "metadata": {},
      "source": [
        "# 파인콘\n",
        "\n",
        "## 환경설정"
      ],
      "id": "c1be813b-8eca-454e-bbb5-942176f66a40"
    },
    {
      "cell_type": "code",
      "execution_count": 4,
      "metadata": {
        "tags": []
      },
      "outputs": [],
      "source": [
        "# !pip install pinecone-client\n",
        "import dotenv\n",
        "import os\n",
        "import pinecone\n",
        "\n",
        "from dotenv import load_dotenv, find_dotenv\n",
        "_ = load_dotenv(find_dotenv())\n",
        "\n",
        "pinecone.init(\n",
        "    api_key=os.getenv(\"PINECONE_API_KEY\"),\n",
        "    environment=os.getenv(\"PINECONE_API_ENV\"),\n",
        ")\n"
      ],
      "id": "misinfo-setup"
    },
    {
      "cell_type": "markdown",
      "metadata": {},
      "source": [
        "## 벡터 데이터베이스"
      ],
      "id": "4814757e-d97f-49ac-bf5e-9e73f2e149fd"
    },
    {
      "cell_type": "code",
      "execution_count": 47,
      "metadata": {
        "tags": []
      },
      "outputs": [
        {
          "output_type": "stream",
          "name": "stdout",
          "text": [
            "['helloworld-index']: IndexDescription(name='helloworld-index', metric='cosine', replicas=1, dimension=4.0, shards=1, pods=1, pod_type='p1', status={'ready': True, 'state': 'Ready'}, metadata_config=None, source_collection='')"
          ]
        }
      ],
      "source": [
        "# pinecone.create_index(\"helloworld-index\", dimension=1024)\n",
        "active_indexes = pinecone.list_indexes()\n",
        "index_description = pinecone.describe_index(\"helloworld-index\")\n",
        "print(f'{active_indexes}: {index_description}')"
      ],
      "id": "misinfo-index"
    },
    {
      "cell_type": "markdown",
      "metadata": {},
      "source": [
        "## 데이터 넣기"
      ],
      "id": "9c66c4ff-9e00-4878-ad2b-0060f0a85739"
    },
    {
      "cell_type": "code",
      "execution_count": 48,
      "metadata": {
        "tags": []
      },
      "outputs": [],
      "source": [
        "index = pinecone.Index(\"helloworld-index\")\n",
        "\n",
        "upsert_response = index.upsert(\n",
        "    vectors=[\n",
        "        (\n",
        "         \"vec1\",                # Vector ID \n",
        "         [0.1, 0.2, 0.3, 0.4],  # Dense vector values\n",
        "         {\"genre\": \"drama\"}     # Vector metadata\n",
        "        ),\n",
        "        (\n",
        "         \"vec2\", \n",
        "         [0.2, 0.3, 0.4, 0.5], \n",
        "         {\"genre\": \"action\"}\n",
        "        )\n",
        "    ],\n",
        "    namespace=\"helloworld-namespace\"\n",
        ")"
      ],
      "id": "misinfo-insert"
    },
    {
      "cell_type": "markdown",
      "metadata": {},
      "source": [
        "## 데이터 추출"
      ],
      "id": "3068c29b-57dc-459b-b41d-fffe407a79fb"
    },
    {
      "cell_type": "code",
      "execution_count": 49,
      "metadata": {
        "tags": []
      },
      "outputs": [
        {
          "output_type": "display_data",
          "metadata": {},
          "data": {
            "text/plain": [
              "[0.2, 0.3, 0.4, 0.5]"
            ]
          }
        }
      ],
      "source": [
        "fetch_response = index.fetch(ids=[\"vec1\", \"vec2\"], namespace=\"helloworld-namespace\")\n",
        "fetch_response['vectors']['vec2']['values']\n",
        "# print(fetch_response['values'])"
      ],
      "id": "cell-misinfo-fetch"
    },
    {
      "cell_type": "markdown",
      "metadata": {},
      "source": [
        "# 오정보 미트업\n",
        "\n",
        "## 텍스트 데이터"
      ],
      "id": "9811e4f8-ae01-4397-89a5-eb374349413e"
    },
    {
      "cell_type": "code",
      "execution_count": 6,
      "metadata": {
        "tags": []
      },
      "outputs": [
        {
          "output_type": "stream",
          "name": "stdout",
          "text": [
            "Well, thank you very much, Dr. Ahn. This is a real pleasure to be able to speak across the ocean. I "
          ]
        }
      ],
      "source": [
        "with open('../data/LibriSpeech/misinfo_chatGPT.txt', 'r') as f:\n",
        "    contents = f.read()\n",
        "print(contents[:100])"
      ],
      "id": "misinfo-txt"
    },
    {
      "cell_type": "markdown",
      "metadata": {},
      "source": [
        "## 토큰수\n",
        "\n",
        "https://platform.openai.com/docs/guides/embeddings/what-are-embeddings\n",
        "\n",
        "### 정규표현식"
      ],
      "id": "c5fa803f-6bf5-4c95-a6cf-ec7668851e27"
    },
    {
      "cell_type": "code",
      "execution_count": 7,
      "metadata": {
        "tags": []
      },
      "outputs": [
        {
          "output_type": "stream",
          "name": "stdout",
          "text": [
            "정규표현식 추정토큰수: 7974"
          ]
        }
      ],
      "source": [
        "import re\n",
        "\n",
        "def estimate_tokens(text):\n",
        "    tokens = re.findall(r'\\b\\w+\\b|\\S', text)\n",
        "    return len(tokens)\n",
        "\n",
        "print(f\"정규표현식 추정토큰수: {estimate_tokens(contents)}\")"
      ],
      "id": "misinfo-regex"
    },
    {
      "cell_type": "markdown",
      "metadata": {},
      "source": [
        "### `tiktoken`"
      ],
      "id": "f9958f15-310f-4dfc-b094-55d6e1ff9e40"
    },
    {
      "cell_type": "code",
      "execution_count": 8,
      "metadata": {
        "tags": []
      },
      "outputs": [
        {
          "output_type": "display_data",
          "metadata": {},
          "data": {
            "text/plain": [
              "7852"
            ]
          }
        }
      ],
      "source": [
        "import tiktoken\n",
        "\n",
        "def num_tokens_from_string(string: str) -> int:\n",
        "    \"\"\"Returns the number of tokens in a text string.\"\"\"    \n",
        "    encoding = tiktoken.get_encoding(\"cl100k_base\")\n",
        "    num_tokens = len(encoding.encode(string))\n",
        "    return num_tokens\n",
        "\n",
        "# num_tokens_from_string(\"Hello World!\",)\n",
        "num_tokens=num_tokens_from_string(contents)\n",
        "num_tokens"
      ],
      "id": "cell-misinfo-tiktoken"
    },
    {
      "cell_type": "code",
      "execution_count": 9,
      "metadata": {
        "tags": []
      },
      "outputs": [
        {
          "output_type": "stream",
          "name": "stdout",
          "text": [
            "Number of tokens: 7852\n",
            "\n",
            "MODEL        VERSION    COST\n",
            "-----------------------------------\n",
            "Ada     v1  $0.031408\n",
            "Babbage     v1  $0.03926\n",
            "Curie       v1  $0.15704\n",
            "Davinci     v1  $1.570400\n",
            "Ada     v2  $0.003140"
          ]
        }
      ],
      "source": [
        "# 출처: https://github.com/OpsConfig/OpenAI_Lab/blob/3a8c55160a6790fc790ef1c2c797d83c716eee94/Context-based-search-Version2.ipynb\n",
        "# Based on https://openai.com/api/pricing/ on 01/29/2023\n",
        "# If you were using this for approximating pricing with Azure OpenAI adjust the values below with: https://azure.microsoft.com/pricing/details/cognitive-services/openai-service/\n",
        "\n",
        "#MODEL  USAGE\n",
        "#Ada     v1 $0.0040 / 1K tokens\n",
        "#Babbage v1 $0.0050 / 1K tokens\n",
        "#Curie   v1 $0.0200 / 1K tokens\n",
        "#Davinci v1 $0.2000 / 1K tokens\n",
        "\n",
        "#MODEL  USAGE\n",
        "#Ada     v2 $0.0004 / 1K tokens\n",
        "#This Ada model, text-embedding-ada-002, is a better and lower cost replacement for our older embedding models. \n",
        "\n",
        "n_tokens_sum = num_tokens\n",
        "\n",
        "ada_v1_embeddings_cost = (n_tokens_sum/1000) *.0040\n",
        "babbage_v1_embeddings_cost = (n_tokens_sum/1000) *.0050\n",
        "curie_v1_embeddings_cost = (n_tokens_sum/1000) *.02\n",
        "davinci_v1_embeddings_cost = (n_tokens_sum/1000) *.2\n",
        "\n",
        "ada_v2_embeddings_cost = (n_tokens_sum/1000) *.0004\n",
        "\n",
        "print(\"Number of tokens: \" + str(n_tokens_sum) + \"\\n\")\n",
        "\n",
        "print(\"MODEL        VERSION    COST\")\n",
        "print(\"-----------------------------------\")\n",
        "print(\"Ada\" + \"\\t\\t\" + \"v1\" + \"\\t$\" + '%.8s' % str(ada_v1_embeddings_cost))\n",
        "print(\"Babbage\" + \"\\t\\t\" + \"v1\" + \"\\t$\" + '%.8s' % str(babbage_v1_embeddings_cost))\n",
        "print(\"Curie\" + \"\\t\\t\" + \"v1\" + \"\\t$\" + '%.8s' % str(curie_v1_embeddings_cost))\n",
        "print(\"Davinci\" + \"\\t\\t\" + \"v1\" + \"\\t$\" + '%.8s' % str(davinci_v1_embeddings_cost))\n",
        "print(\"Ada\" + \"\\t\\t\" + \"v2\" + \"\\t$\" + '%.8s' %str(ada_v2_embeddings_cost))"
      ],
      "id": "misinfo-price"
    },
    {
      "cell_type": "markdown",
      "metadata": {},
      "source": [
        "## 임베딩"
      ],
      "id": "0215aff6-6ab5-4b0c-9904-c375da9dd5e1"
    },
    {
      "cell_type": "code",
      "execution_count": 10,
      "metadata": {
        "tags": []
      },
      "outputs": [],
      "source": [
        "import openai\n",
        "\n",
        "openai.api_key  = os.getenv('ENV_OPENAI_API_KEY')\n",
        "\n",
        "def generate_embeddings(text, model=\"text-embedding-ada-002\"):\n",
        "    return openai.Embedding.create(input = [text], model=model)['data'][0]['embedding']\n",
        "\n",
        "#contents_embedding = generate_embeddings(contents)"
      ],
      "id": "misinfo-embedding2"
    },
    {
      "cell_type": "code",
      "execution_count": null,
      "metadata": {
        "tags": []
      },
      "outputs": [],
      "source": [
        "len(contents_embedding)"
      ],
      "id": "eec208e9-8455-446b-ba84-dfa52a5c5710"
    },
    {
      "cell_type": "markdown",
      "metadata": {},
      "source": [
        "## 텍스트 쪼개기"
      ],
      "id": "52d1b043-43ed-4558-ae77-bea288c64856"
    },
    {
      "cell_type": "code",
      "execution_count": 12,
      "metadata": {
        "tags": []
      },
      "outputs": [
        {
          "output_type": "stream",
          "name": "stdout",
          "text": [
            "                                                text\n",
            "0                      Well, thank you very much, Dr\n",
            "1                                                Ahn\n",
            "2  This is a real pleasure to be able to speak ac...\n",
            "3  I wish I was there in person, but I did get th...\n",
            "4                               So thank you so much"
          ]
        }
      ],
      "source": [
        "import pandas as pd\n",
        "\n",
        "sentences = contents.split(\". \")\n",
        "\n",
        "df = pd.DataFrame(sentences, columns=['text'])\n",
        "\n",
        "print(df.head())"
      ],
      "id": "misinfo-pandas"
    },
    {
      "cell_type": "markdown",
      "metadata": {},
      "source": [
        "## 임베딩"
      ],
      "id": "370b44d0-a3d6-4bc1-8226-9adae4db4c04"
    },
    {
      "cell_type": "code",
      "execution_count": 14,
      "metadata": {
        "tags": []
      },
      "outputs": [],
      "source": [
        "import uuid\n",
        "\n",
        "def get_embedding(text: str, model=\"text-embedding-ada-002\") -> list[float]:\n",
        "    return openai.Embedding.create(input=[text], model=model)[\"data\"][0][\"embedding\"]\n",
        "\n",
        "# embedding = get_embedding(\"Your text goes here\", model=\"text-embedding-ada-002\")\n",
        "# print(len(embedding))\n",
        "# df['n_tokens'] = df[\"embedding\"].apply(lambda x: len(x))\n",
        "\n",
        "\n",
        "df[\"embedding\"] = df.text.apply(lambda x: get_embedding(x))\n",
        "df['vector_id'] = [str(uuid.uuid4()) for _ in range(len(df))]\n",
        "\n",
        "df.to_csv(\"misinfo-embeddings.csv\")"
      ],
      "id": "misinfo-embedding"
    },
    {
      "cell_type": "markdown",
      "metadata": {},
      "source": [
        "## 벡터 데이터베이스"
      ],
      "id": "f38cae32-9839-4855-afeb-eded6543b5ec"
    },
    {
      "cell_type": "code",
      "execution_count": 15,
      "metadata": {
        "tags": []
      },
      "outputs": [
        {
          "output_type": "display_data",
          "metadata": {},
          "data": {
            "text/plain": [
              "['misinfo']"
            ]
          }
        }
      ],
      "source": [
        "# Pick a name for the new index\n",
        "index_name = 'misinfo'\n",
        "\n",
        "# Check whether the index with the same name already exists - if so, delete it\n",
        "if index_name in pinecone.list_indexes():\n",
        "    pinecone.delete_index(index_name)\n",
        "    \n",
        "# Creates new index\n",
        "pinecone.create_index(name=index_name, dimension=len(df['embedding'][0]))\n",
        "index = pinecone.Index(index_name=index_name)\n",
        "\n",
        "# Confirm our index was created\n",
        "pinecone.list_indexes()"
      ],
      "id": "cell-misinfo-create-db"
    },
    {
      "cell_type": "markdown",
      "metadata": {},
      "source": [
        "## 임베딩 DB 삽입\n",
        "\n",
        "https://towardsdatascience.com/crud-with-pinecone-ee6b6f8b54e8"
      ],
      "id": "e74395f7-5401-4cb4-8d17-f31ff509457a"
    },
    {
      "cell_type": "code",
      "execution_count": 16,
      "metadata": {
        "tags": []
      },
      "outputs": [
        {
          "output_type": "display_data",
          "metadata": {},
          "data": {
            "text/plain": [
              "{'dimension': 1536,\n",
              " 'index_fullness': 0.0,\n",
              " 'namespaces': {'misinfo_namespace': {'vector_count': 368}},\n",
              " 'total_vector_count': 368}"
            ]
          }
        }
      ],
      "source": [
        "import itertools\n",
        "\n",
        "def chunks(iterable, batch_size=100):\n",
        "    it = iter(iterable)\n",
        "    chunk = tuple(itertools.islice(it, batch_size))\n",
        "    while chunk:\n",
        "        yield chunk\n",
        "        chunk = tuple(itertools.islice(it, batch_size))\n",
        "\n",
        "for batch in chunks([(str(t), v) for t, v in zip(df.vector_id, df.embedding)]):\n",
        "    index.upsert(vectors=batch, namespace = \"misinfo_namespace\")\n",
        "\n",
        "index.describe_index_stats()    "
      ],
      "id": "cell-misinfo-upsert"
    },
    {
      "cell_type": "markdown",
      "metadata": {},
      "source": [
        "## 검색"
      ],
      "id": "490e78fb-1c08-4e69-9f0c-b12ba93006da"
    },
    {
      "cell_type": "code",
      "execution_count": 17,
      "metadata": {
        "tags": []
      },
      "outputs": [
        {
          "output_type": "display_data",
          "metadata": {},
          "data": {
            "text/plain": [
              "186    And we know that, you know, our surgeon general and other major leaders around the world have recognized the ways in which misinformation can affect our health, and they can affect the health of democracies\n",
              "130                                                                                                                                                                And bullshit is a part of the misinformation story\n",
              "16                                                                                                                We've studied misinformation during the pandemic and during elections and all sorts of other topics\n",
              "Name: text, dtype: object"
            ]
          }
        }
      ],
      "source": [
        "pd.set_option('display.max_colwidth', None)\n",
        "\n",
        "from openai.embeddings_utils import get_embedding, cosine_similarity\n",
        "\n",
        "def get_embedding(text, model=\"text-embedding-ada-002\"):\n",
        "   return openai.Embedding.create(input = [text], model=model)['data'][0]['embedding']\n",
        "\n",
        "df_similarities = df.copy()\n",
        "\n",
        "def search_docs(df, user_query, top_n=3):\n",
        "    embedding = get_embedding(user_query, model=\"text-embedding-ada-002\")\n",
        "\n",
        "    df_similarities[\"similarities\"] = df.embedding.apply(lambda x: cosine_similarity(x, embedding))\n",
        "\n",
        "    res = (\n",
        "        df_similarities.sort_values(\"similarities\", ascending=False)\n",
        "        .head(top_n)\n",
        "    )\n",
        "    \n",
        "    return res\n",
        "\n",
        "question = \"why misinformation is dangerous?\\n\\n\"\n",
        "\n",
        "res = search_docs(df, question, top_n=3)\n",
        "res.text"
      ],
      "id": "cell-misinfo-query"
    },
    {
      "cell_type": "markdown",
      "metadata": {},
      "source": [
        "# 시각화"
      ],
      "id": "dd4edb10-8aee-4b62-8ca8-756f6fcb04dc"
    },
    {
      "cell_type": "code",
      "execution_count": null,
      "metadata": {
        "tags": []
      },
      "outputs": [],
      "source": [
        "from nomic import atlas\n",
        "import nomic\n",
        "\n",
        "nomic.login(os.getenv('NOMIC_API_KEY'))\n",
        "\n",
        "project = atlas.map_embeddings(\n",
        "    embeddings=df['embedding'].to_numpy()    \n",
        ")"
      ],
      "id": "489f3ec6-c832-45b5-9944-d1f870030680"
    }
  ],
  "nbformat": 4,
  "nbformat_minor": 5,
  "metadata": {
    "kernelspec": {
      "name": "python3",
      "display_name": "Python 3 (ipykernel)",
      "language": "python"
    },
    "language_info": {
      "name": "python",
      "codemirror_mode": {
        "name": "ipython",
        "version": "3"
      },
      "file_extension": ".py",
      "mimetype": "text/x-python",
      "nbconvert_exporter": "python",
      "pygments_lexer": "ipython3",
      "version": "3.9.16"
    }
  }
}